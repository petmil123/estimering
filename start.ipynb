{
 "cells": [
  {
   "cell_type": "code",
   "execution_count": 2,
   "metadata": {},
   "outputs": [],
   "source": [
    "import numpy as np\n",
    "import scipy.fft as fft\n",
    "import matplotlib.pyplot as plt"
   ]
  },
  {
   "cell_type": "code",
   "execution_count": null,
   "metadata": {},
   "outputs": [
    {
     "name": "stdout",
     "output_type": "stream",
     "text": [
      "SNR:  -10 M:  1024 omega:  1777046179458.64 phi:  0.5601781731598446\n",
      "SNR:  -10 M:  4096 omega:  1641245676178.2317 phi:  0.5522122095287076\n",
      "SNR:  -10 M:  16384 omega:  1721685875608.9497 phi:  0.5519867557378337\n",
      "SNR:  -10 M:  65536 omega:  1687567716255.796 phi:  0.515260172600672\n",
      "SNR:  -10 M:  262144 omega:  1780051308688.8313 phi:  0.5308315043166598\n",
      "SNR:  0 M:  1024 omega:  0.0 phi:  0.00019208009077354438\n",
      "0.0\n",
      "SNR:  0 M:  4096 omega:  11546.522422658452 phi:  0.0001704184271322854\n",
      "SNR:  0 M:  16384 omega:  2318.701562326617 phi:  0.00017462609918638373\n",
      "SNR:  0 M:  65536 omega:  7579.136229431301 phi:  0.00017912281079047709\n",
      "SNR:  0 M:  262144 omega:  8140.024217959603 phi:  0.0001779826476387898\n",
      "SNR:  10 M:  1024 omega:  0.0 phi:  1.934476211979624e-06\n",
      "0.0\n",
      "SNR:  10 M:  4096 omega:  0.0 phi:  1.8640218727743893e-06\n",
      "0.0\n",
      "SNR:  10 M:  16384 omega:  29.295940594601316 phi:  1.6439551790642282e-06\n",
      "SNR:  10 M:  65536 omega:  66.35898583990894 phi:  1.90774746555216e-06\n",
      "SNR:  10 M:  262144 omega:  63.683684042506385 phi:  1.744101543450174e-06\n",
      "SNR:  20 M:  1024 omega:  0.0 phi:  2.0134153971020597e-08\n",
      "0.0\n",
      "SNR:  20 M:  4096 omega:  0.0 phi:  1.89345149750776e-08\n",
      "0.0\n",
      "SNR:  20 M:  16384 omega:  0.0 phi:  1.8151433949247914e-08\n",
      "0.0\n",
      "SNR:  20 M:  65536 omega:  0.0 phi:  1.7583517085825486e-08\n",
      "0.0\n",
      "SNR:  20 M:  262144 omega:  1.0718919094077421 phi:  1.8709917056387907e-08\n",
      "SNR:  30 M:  1024 omega:  0.0 phi:  2.0596849527089698e-10\n",
      "0.0\n",
      "SNR:  30 M:  4096 omega:  0.0 phi:  1.856972747275902e-10\n",
      "0.0\n",
      "SNR:  30 M:  16384 omega:  0.0 phi:  1.8434925194669332e-10\n",
      "0.0\n",
      "SNR:  30 M:  65536 omega:  0.0 phi:  1.8944779743517728e-10\n",
      "0.0\n",
      "SNR:  30 M:  262144 omega:  0.0 phi:  1.6381006286005763e-10\n",
      "0.0\n",
      "SNR:  40 M:  1024 omega:  0.0 phi:  2.243725751990712e-12\n",
      "0.0\n",
      "SNR:  40 M:  4096 omega:  0.0 phi:  1.889740545845305e-12\n",
      "0.0\n",
      "SNR:  40 M:  16384 omega:  0.0 phi:  1.748557974310145e-12\n",
      "0.0\n",
      "SNR:  40 M:  65536 omega:  0.0 phi:  1.7026507259978842e-12\n",
      "0.0\n",
      "SNR:  40 M:  262144 omega:  0.0 phi:  1.844704685926307e-12\n",
      "0.0\n",
      "SNR:  50 M:  1024 omega:  0.0 phi:  2.0352988092475534e-14\n",
      "0.0\n",
      "SNR:  50 M:  4096 omega:  0.0 phi:  2.0173870914192013e-14\n",
      "0.0\n",
      "SNR:  50 M:  16384 omega:  0.0 phi:  1.9355279980161707e-14\n",
      "0.0\n",
      "SNR:  50 M:  65536 omega:  0.0 phi:  1.9104405588587812e-14\n",
      "0.0\n",
      "SNR:  50 M:  262144 omega:  0.0 phi:  1.9332925096252673e-14\n",
      "0.0\n"
     ]
    }
   ],
   "source": [
    "# Setting up the signal\n",
    "F_s =1e6\n",
    "T = 1/F_s\n",
    "f_0 = 1e5\n",
    "omega_0 = 2*np.pi*f_0\n",
    "phi = np.pi/8\n",
    "A = 1\n",
    "\n",
    "N = 513\n",
    "n_0 = -256\n",
    "t = np.arange(n_0, n_0+N)*T\n",
    "\n",
    "SNR_db = np.arange(-10, 60, 10)\n",
    "SNR_num = 10**(SNR_db/10)\n",
    "\n",
    "k = np.arange(10,20,2)\n",
    "M = 2**k\n",
    "\n",
    "for i, SNR in enumerate(SNR_num):\n",
    "    for j, m in enumerate(M):\n",
    "        temp_omega = np.zeros(1000)\n",
    "        temp_phi = np.zeros(1000)\n",
    "        for k in range(1000):\n",
    "            noise_real = np.random.normal(0, A**2/(2*SNR), N)\n",
    "            noise_complex = np.random.normal(0, A**2/(2*SNR), N)*1j\n",
    "            signal = A*np.exp(1j*(omega_0*t+phi)) + noise_real+ noise_complex\n",
    "            F = fft.fft(signal, n=m, norm='ortho')\n",
    "            m_star = np.argmax(np.abs(F))\n",
    "            omega_hat = 2*np.pi*m_star/(m*T)\n",
    "            phi_hat = np.angle(np.exp(-1j*omega_hat*n_0*T)*F[m_star])\n",
    "            temp_omega[k] = np.abs(omega_hat-omega_0)\n",
    "            temp_phi[k] = np.abs(phi_hat-phi)\n",
    "        print('SNR: ', SNR_db[i], 'M: ', m, 'omega: ', np.var(temp_omega, ddof=1), 'phi: ', np.var(temp_phi, ddof=1))\n",
    "        if np.var(temp_omega, ddof=1) == 0:\n",
    "            print(np.max(np.abs(temp_omega))-temp_omega[0])\n",
    "        "
   ]
  },
  {
   "cell_type": "code",
   "execution_count": null,
   "metadata": {},
   "outputs": [],
   "source": []
  },
  {
   "cell_type": "code",
   "execution_count": null,
   "metadata": {},
   "outputs": [],
   "source": []
  }
 ],
 "metadata": {
  "kernelspec": {
   "display_name": "Python 3",
   "language": "python",
   "name": "python3"
  },
  "language_info": {
   "codemirror_mode": {
    "name": "ipython",
    "version": 3
   },
   "file_extension": ".py",
   "mimetype": "text/x-python",
   "name": "python",
   "nbconvert_exporter": "python",
   "pygments_lexer": "ipython3",
   "version": "3.9.13"
  }
 },
 "nbformat": 4,
 "nbformat_minor": 2
}
